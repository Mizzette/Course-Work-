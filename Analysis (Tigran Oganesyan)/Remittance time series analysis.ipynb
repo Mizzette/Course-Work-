{
 "cells": [
  {
   "cell_type": "code",
   "execution_count": 58,
   "id": "f4469c9f",
   "metadata": {},
   "outputs": [],
   "source": [
    "import pandas as pd\n",
    "import matplotlib.pyplot as plt\n",
    "import statsmodels.api as sm\n",
    "from statsmodels.graphics.tsaplots import plot_acf"
   ]
  },
  {
   "cell_type": "code",
   "execution_count": 59,
   "id": "39355765",
   "metadata": {},
   "outputs": [],
   "source": [
    "class Ema:\n",
    "    def __init__(self, alpha = 1):\n",
    "        self.alpha = alpha\n",
    "    \n",
    "    def calculate_alpha(self, period):\n",
    "        return 2 /(period + 1)\n",
    "    \n",
    "    def calculate_ema(self, row):\n",
    "        ema_arr = []\n",
    "        smoothing = self.alpha\n",
    "        period = int(2 / smoothing - 1)\n",
    "        mean = sum(row[0 : period]) / period\n",
    "        for i in range(period + 1, len(row)):\n",
    "            mean = mean + smoothing * (row[i] - mean)\n",
    "            ema_arr.append(mean)\n",
    "        return (ema_arr)\n",
    "    \n",
    "    def fit_predict(self, df, points):\n",
    "        data = df\n",
    "        smoothing = self.alpha\n",
    "        period = int(2 / smoothing - 1)\n",
    "        for x in range(points):\n",
    "            forecast_arr = []\n",
    "            for i in range(len(data)):\n",
    "                mean = 0\n",
    "                tmp = []\n",
    "                mean = sum(data.iloc[i, :period]) / period\n",
    "                for j in range(period + 1, len(data.iloc[0, :])):\n",
    "                    mean = mean + smoothing * (data.iloc[i, j] - mean)\n",
    "                    tmp.append(mean)\n",
    "                forecast = smoothing * data.iloc[i, len(data.columns) - 1] + (1 - smoothing) * tmp[-1]\n",
    "                forecast_arr.append(forecast)\n",
    "            data[x] = forecast_arr\n",
    "        prediction = data.iloc[:,  -points:]\n",
    "        df.drop(df.iloc[:, -points:], axis = 1, inplace = True)\n",
    "        return prediction\n"
   ]
  },
  {
   "cell_type": "code",
   "execution_count": 60,
   "id": "545917fc",
   "metadata": {},
   "outputs": [],
   "source": [
    "def autocorr_check(data):\n",
    "    autocorr_index = []\n",
    "    for i in range(len(data)):\n",
    "        arr = sm.tsa.acf(data.iloc[i, 1:])\n",
    "        for j in range(1, len(arr)):\n",
    "            if abs(arr[j]) - abs(arr[j - 1]) > 0.5:\n",
    "                autocorr_index.append(i)\n",
    "    return autocorr_index"
   ]
  },
  {
   "cell_type": "code",
   "execution_count": 61,
   "id": "39983483",
   "metadata": {},
   "outputs": [],
   "source": [
    "inflow = pd.read_csv('Final predanalysis table - Inflow.csv')\n",
    "outflow = pd.read_csv('Final predanalysis table - Outflow.csv')"
   ]
  },
  {
   "cell_type": "code",
   "execution_count": 62,
   "id": "e8fbc9db",
   "metadata": {},
   "outputs": [
    {
     "data": {
      "text/html": [
       "<div>\n",
       "<style scoped>\n",
       "    .dataframe tbody tr th:only-of-type {\n",
       "        vertical-align: middle;\n",
       "    }\n",
       "\n",
       "    .dataframe tbody tr th {\n",
       "        vertical-align: top;\n",
       "    }\n",
       "\n",
       "    .dataframe thead th {\n",
       "        text-align: right;\n",
       "    }\n",
       "</style>\n",
       "<table border=\"1\" class=\"dataframe\">\n",
       "  <thead>\n",
       "    <tr style=\"text-align: right;\">\n",
       "      <th></th>\n",
       "      <th>Country</th>\n",
       "      <th>2000</th>\n",
       "      <th>2001</th>\n",
       "      <th>2002</th>\n",
       "      <th>2003</th>\n",
       "      <th>2004</th>\n",
       "      <th>2005</th>\n",
       "      <th>2006</th>\n",
       "      <th>2007</th>\n",
       "      <th>2008</th>\n",
       "      <th>...</th>\n",
       "      <th>2014</th>\n",
       "      <th>2015</th>\n",
       "      <th>2016</th>\n",
       "      <th>2017</th>\n",
       "      <th>2018</th>\n",
       "      <th>2019</th>\n",
       "      <th>2020</th>\n",
       "      <th>2021</th>\n",
       "      <th>2022</th>\n",
       "      <th>2023</th>\n",
       "    </tr>\n",
       "  </thead>\n",
       "  <tbody>\n",
       "    <tr>\n",
       "      <th>0</th>\n",
       "      <td>Afghanistan</td>\n",
       "      <td>0</td>\n",
       "      <td>0</td>\n",
       "      <td>0</td>\n",
       "      <td>0</td>\n",
       "      <td>0</td>\n",
       "      <td>0</td>\n",
       "      <td>0</td>\n",
       "      <td>0</td>\n",
       "      <td>90</td>\n",
       "      <td>...</td>\n",
       "      <td>253.0</td>\n",
       "      <td>349.0</td>\n",
       "      <td>628.0</td>\n",
       "      <td>823.0</td>\n",
       "      <td>804.0</td>\n",
       "      <td>829.0</td>\n",
       "      <td>789.0</td>\n",
       "      <td>320.0</td>\n",
       "      <td>370.0</td>\n",
       "      <td>300.0</td>\n",
       "    </tr>\n",
       "    <tr>\n",
       "      <th>1</th>\n",
       "      <td>Albania</td>\n",
       "      <td>598</td>\n",
       "      <td>699</td>\n",
       "      <td>734</td>\n",
       "      <td>889</td>\n",
       "      <td>1161</td>\n",
       "      <td>1290</td>\n",
       "      <td>1359</td>\n",
       "      <td>1468</td>\n",
       "      <td>1866</td>\n",
       "      <td>...</td>\n",
       "      <td>1421.0</td>\n",
       "      <td>1291.0</td>\n",
       "      <td>1306.0</td>\n",
       "      <td>1312.0</td>\n",
       "      <td>1458.0</td>\n",
       "      <td>1473.0</td>\n",
       "      <td>1466.0</td>\n",
       "      <td>1718.0</td>\n",
       "      <td>1745.0</td>\n",
       "      <td>1970.0</td>\n",
       "    </tr>\n",
       "    <tr>\n",
       "      <th>2</th>\n",
       "      <td>Algeria</td>\n",
       "      <td>0</td>\n",
       "      <td>0</td>\n",
       "      <td>0</td>\n",
       "      <td>0</td>\n",
       "      <td>0</td>\n",
       "      <td>170</td>\n",
       "      <td>189</td>\n",
       "      <td>99</td>\n",
       "      <td>104</td>\n",
       "      <td>...</td>\n",
       "      <td>2452.0</td>\n",
       "      <td>1997.0</td>\n",
       "      <td>1989.0</td>\n",
       "      <td>1792.0</td>\n",
       "      <td>1985.0</td>\n",
       "      <td>1786.0</td>\n",
       "      <td>1700.0</td>\n",
       "      <td>1792.0</td>\n",
       "      <td>1659.0</td>\n",
       "      <td>1770.0</td>\n",
       "    </tr>\n",
       "    <tr>\n",
       "      <th>3</th>\n",
       "      <td>Andorra</td>\n",
       "      <td>0</td>\n",
       "      <td>0</td>\n",
       "      <td>0</td>\n",
       "      <td>0</td>\n",
       "      <td>0</td>\n",
       "      <td>0</td>\n",
       "      <td>0</td>\n",
       "      <td>0</td>\n",
       "      <td>0</td>\n",
       "      <td>...</td>\n",
       "      <td>0.0</td>\n",
       "      <td>0.0</td>\n",
       "      <td>0.0</td>\n",
       "      <td>0.0</td>\n",
       "      <td>0.0</td>\n",
       "      <td>21.0</td>\n",
       "      <td>47.0</td>\n",
       "      <td>53.0</td>\n",
       "      <td>0.0</td>\n",
       "      <td>0.0</td>\n",
       "    </tr>\n",
       "    <tr>\n",
       "      <th>4</th>\n",
       "      <td>Angola</td>\n",
       "      <td>0</td>\n",
       "      <td>0</td>\n",
       "      <td>0</td>\n",
       "      <td>0</td>\n",
       "      <td>0</td>\n",
       "      <td>0</td>\n",
       "      <td>0</td>\n",
       "      <td>0</td>\n",
       "      <td>82</td>\n",
       "      <td>...</td>\n",
       "      <td>31.0</td>\n",
       "      <td>11.0</td>\n",
       "      <td>4.0</td>\n",
       "      <td>1.0</td>\n",
       "      <td>2.0</td>\n",
       "      <td>3.0</td>\n",
       "      <td>8.0</td>\n",
       "      <td>13.0</td>\n",
       "      <td>14.0</td>\n",
       "      <td>15.0</td>\n",
       "    </tr>\n",
       "  </tbody>\n",
       "</table>\n",
       "<p>5 rows × 25 columns</p>\n",
       "</div>"
      ],
      "text/plain": [
       "       Country  2000  2001  2002  2003  2004  2005  2006  2007  2008  ...  \\\n",
       "0  Afghanistan     0     0     0     0     0     0     0     0    90  ...   \n",
       "1      Albania   598   699   734   889  1161  1290  1359  1468  1866  ...   \n",
       "2      Algeria     0     0     0     0     0   170   189    99   104  ...   \n",
       "3      Andorra     0     0     0     0     0     0     0     0     0  ...   \n",
       "4       Angola     0     0     0     0     0     0     0     0    82  ...   \n",
       "\n",
       "     2014    2015    2016    2017    2018    2019    2020    2021    2022  \\\n",
       "0   253.0   349.0   628.0   823.0   804.0   829.0   789.0   320.0   370.0   \n",
       "1  1421.0  1291.0  1306.0  1312.0  1458.0  1473.0  1466.0  1718.0  1745.0   \n",
       "2  2452.0  1997.0  1989.0  1792.0  1985.0  1786.0  1700.0  1792.0  1659.0   \n",
       "3     0.0     0.0     0.0     0.0     0.0    21.0    47.0    53.0     0.0   \n",
       "4    31.0    11.0     4.0     1.0     2.0     3.0     8.0    13.0    14.0   \n",
       "\n",
       "     2023  \n",
       "0   300.0  \n",
       "1  1970.0  \n",
       "2  1770.0  \n",
       "3     0.0  \n",
       "4    15.0  \n",
       "\n",
       "[5 rows x 25 columns]"
      ]
     },
     "execution_count": 62,
     "metadata": {},
     "output_type": "execute_result"
    }
   ],
   "source": [
    "inflow.head()"
   ]
  },
  {
   "cell_type": "code",
   "execution_count": 63,
   "id": "aa913c4d",
   "metadata": {},
   "outputs": [
    {
     "data": {
      "text/html": [
       "<div>\n",
       "<style scoped>\n",
       "    .dataframe tbody tr th:only-of-type {\n",
       "        vertical-align: middle;\n",
       "    }\n",
       "\n",
       "    .dataframe tbody tr th {\n",
       "        vertical-align: top;\n",
       "    }\n",
       "\n",
       "    .dataframe thead th {\n",
       "        text-align: right;\n",
       "    }\n",
       "</style>\n",
       "<table border=\"1\" class=\"dataframe\">\n",
       "  <thead>\n",
       "    <tr style=\"text-align: right;\">\n",
       "      <th></th>\n",
       "      <th>Country</th>\n",
       "      <th>2000</th>\n",
       "      <th>2001</th>\n",
       "      <th>2002</th>\n",
       "      <th>2003</th>\n",
       "      <th>2004</th>\n",
       "      <th>2005</th>\n",
       "      <th>2006</th>\n",
       "      <th>2007</th>\n",
       "      <th>2008</th>\n",
       "      <th>...</th>\n",
       "      <th>2013</th>\n",
       "      <th>2014</th>\n",
       "      <th>2015</th>\n",
       "      <th>2016</th>\n",
       "      <th>2017</th>\n",
       "      <th>2018</th>\n",
       "      <th>2019</th>\n",
       "      <th>2020</th>\n",
       "      <th>2021</th>\n",
       "      <th>2022</th>\n",
       "    </tr>\n",
       "  </thead>\n",
       "  <tbody>\n",
       "    <tr>\n",
       "      <th>0</th>\n",
       "      <td>Afghanistan</td>\n",
       "      <td>0</td>\n",
       "      <td>0</td>\n",
       "      <td>0</td>\n",
       "      <td>0</td>\n",
       "      <td>0</td>\n",
       "      <td>0</td>\n",
       "      <td>0</td>\n",
       "      <td>0</td>\n",
       "      <td>217</td>\n",
       "      <td>...</td>\n",
       "      <td>445</td>\n",
       "      <td>524</td>\n",
       "      <td>229</td>\n",
       "      <td>168</td>\n",
       "      <td>144</td>\n",
       "      <td>235</td>\n",
       "      <td>217</td>\n",
       "      <td>225</td>\n",
       "      <td>0</td>\n",
       "      <td>0</td>\n",
       "    </tr>\n",
       "    <tr>\n",
       "      <th>1</th>\n",
       "      <td>Albania</td>\n",
       "      <td>0</td>\n",
       "      <td>0</td>\n",
       "      <td>0</td>\n",
       "      <td>4</td>\n",
       "      <td>5</td>\n",
       "      <td>7</td>\n",
       "      <td>27</td>\n",
       "      <td>10</td>\n",
       "      <td>280</td>\n",
       "      <td>...</td>\n",
       "      <td>191</td>\n",
       "      <td>179</td>\n",
       "      <td>153</td>\n",
       "      <td>147</td>\n",
       "      <td>106</td>\n",
       "      <td>115</td>\n",
       "      <td>120</td>\n",
       "      <td>125</td>\n",
       "      <td>140</td>\n",
       "      <td>149</td>\n",
       "    </tr>\n",
       "    <tr>\n",
       "      <th>2</th>\n",
       "      <td>Algeria</td>\n",
       "      <td>0</td>\n",
       "      <td>0</td>\n",
       "      <td>0</td>\n",
       "      <td>0</td>\n",
       "      <td>0</td>\n",
       "      <td>27</td>\n",
       "      <td>35</td>\n",
       "      <td>49</td>\n",
       "      <td>27</td>\n",
       "      <td>...</td>\n",
       "      <td>39</td>\n",
       "      <td>296</td>\n",
       "      <td>72</td>\n",
       "      <td>77</td>\n",
       "      <td>214</td>\n",
       "      <td>87</td>\n",
       "      <td>82</td>\n",
       "      <td>149</td>\n",
       "      <td>83</td>\n",
       "      <td>60</td>\n",
       "    </tr>\n",
       "    <tr>\n",
       "      <th>3</th>\n",
       "      <td>Andorra</td>\n",
       "      <td>0</td>\n",
       "      <td>0</td>\n",
       "      <td>0</td>\n",
       "      <td>0</td>\n",
       "      <td>0</td>\n",
       "      <td>0</td>\n",
       "      <td>0</td>\n",
       "      <td>0</td>\n",
       "      <td>0</td>\n",
       "      <td>...</td>\n",
       "      <td>0</td>\n",
       "      <td>0</td>\n",
       "      <td>0</td>\n",
       "      <td>0</td>\n",
       "      <td>0</td>\n",
       "      <td>0</td>\n",
       "      <td>92</td>\n",
       "      <td>84</td>\n",
       "      <td>71</td>\n",
       "      <td>0</td>\n",
       "    </tr>\n",
       "    <tr>\n",
       "      <th>4</th>\n",
       "      <td>Angola</td>\n",
       "      <td>266</td>\n",
       "      <td>216</td>\n",
       "      <td>224</td>\n",
       "      <td>230</td>\n",
       "      <td>296</td>\n",
       "      <td>215</td>\n",
       "      <td>413</td>\n",
       "      <td>603</td>\n",
       "      <td>669</td>\n",
       "      <td>...</td>\n",
       "      <td>2396</td>\n",
       "      <td>2747</td>\n",
       "      <td>1253</td>\n",
       "      <td>1176</td>\n",
       "      <td>961</td>\n",
       "      <td>682</td>\n",
       "      <td>549</td>\n",
       "      <td>576</td>\n",
       "      <td>445</td>\n",
       "      <td>518</td>\n",
       "    </tr>\n",
       "  </tbody>\n",
       "</table>\n",
       "<p>5 rows × 24 columns</p>\n",
       "</div>"
      ],
      "text/plain": [
       "       Country  2000  2001  2002  2003  2004  2005  2006  2007  2008  ...  \\\n",
       "0  Afghanistan     0     0     0     0     0     0     0     0   217  ...   \n",
       "1      Albania     0     0     0     4     5     7    27    10   280  ...   \n",
       "2      Algeria     0     0     0     0     0    27    35    49    27  ...   \n",
       "3      Andorra     0     0     0     0     0     0     0     0     0  ...   \n",
       "4       Angola   266   216   224   230   296   215   413   603   669  ...   \n",
       "\n",
       "   2013  2014  2015  2016  2017  2018  2019  2020  2021  2022  \n",
       "0   445   524   229   168   144   235   217   225     0     0  \n",
       "1   191   179   153   147   106   115   120   125   140   149  \n",
       "2    39   296    72    77   214    87    82   149    83    60  \n",
       "3     0     0     0     0     0     0    92    84    71     0  \n",
       "4  2396  2747  1253  1176   961   682   549   576   445   518  \n",
       "\n",
       "[5 rows x 24 columns]"
      ]
     },
     "execution_count": 63,
     "metadata": {},
     "output_type": "execute_result"
    }
   ],
   "source": [
    "outflow.head()"
   ]
  },
  {
   "cell_type": "code",
   "execution_count": 64,
   "id": "6684be27",
   "metadata": {},
   "outputs": [
    {
     "name": "stdout",
     "output_type": "stream",
     "text": [
      "[] []\n"
     ]
    },
    {
     "name": "stderr",
     "output_type": "stream",
     "text": [
      "/Users/tigran_oganesyan/miniforge3/envs/tf/lib/python3.9/site-packages/statsmodels/tsa/stattools.py:681: RuntimeWarning: invalid value encountered in true_divide\n",
      "  acf = avf[: nlags + 1] / avf[0]\n"
     ]
    },
    {
     "data": {
      "image/png": "[encoded data removed]",
      "text/plain": [
       "<Figure size 1080x720 with 1 Axes>"
      ]
     },
     "metadata": {
      "needs_background": "light"
     },
     "output_type": "display_data"
    }
   ],
   "source": [
    "auto_inflow = autocorr_check(inflow)\n",
    "auto_outflow = autocorr_check(outflow)\n",
    "print(auto_inflow, auto_outflow)\n",
    "\n",
    "fig, ax = plt.subplots(figsize=(15, 10))\n",
    "plot_acf(outflow.iloc[100, 1:], lags = 20, ax=ax)\n",
    "plt.xlabel('Lags')\n",
    "plt.show()"
   ]
  },
  {
   "cell_type": "code",
   "execution_count": null,
   "id": "1abb4402",
   "metadata": {},
   "outputs": [],
   "source": []
  },
  {
   "cell_type": "code",
   "execution_count": null,
   "id": "6c5b9f4e",
   "metadata": {},
   "outputs": [],
   "source": []
  },
  {
   "cell_type": "code",
   "execution_count": null,
   "id": "30991663",
   "metadata": {},
   "outputs": [],
   "source": []
  },
  {
   "cell_type": "code",
   "execution_count": 65,
   "id": "652e14e3",
   "metadata": {},
   "outputs": [],
   "source": [
    "model = Ema()\n",
    "model.alpha = model.calculate_alpha(3)"
   ]
  },
  {
   "cell_type": "code",
   "execution_count": 66,
   "id": "d8acc9ad",
   "metadata": {},
   "outputs": [
    {
     "data": {
      "text/plain": [
       "Text(0.5, 1.0, 'Luxembourg inflow (no predictions)')"
      ]
     },
     "execution_count": 66,
     "metadata": {},
     "output_type": "execute_result"
    },
    {
     "data": {
      "image/png": "[encoded data removed]",
      "text/plain": [
       "<Figure size 1080x360 with 1 Axes>"
      ]
     },
     "metadata": {
      "needs_background": "light"
     },
     "output_type": "display_data"
    }
   ],
   "source": [
    "inflow_copy = inflow.drop('Country', axis = 1)\n",
    "ema_arr = model.calculate_ema(inflow_copy.iloc[100, :])\n",
    "plt.figure(figsize = (15, 5))\n",
    "plt.xticks(rotation = 90)\n",
    "plt.plot(inflow_copy.iloc[100, 4:24])\n",
    "plt.plot(ema_arr)\n",
    "plt.legend(['Data', 'EMA'])\n",
    "plt.title('Luxembourg inflow (no predictions)')"
   ]
  },
  {
   "cell_type": "code",
   "execution_count": 67,
   "id": "91c219bf",
   "metadata": {},
   "outputs": [
    {
     "data": {
      "text/plain": [
       "Text(0.5, 1.0, 'Luxembourg outflow (no predictions)')"
      ]
     },
     "execution_count": 67,
     "metadata": {},
     "output_type": "execute_result"
    },
    {
     "data": {
      "image/png": "[encoded data removed]",
      "text/plain": [
       "<Figure size 1080x360 with 1 Axes>"
      ]
     },
     "metadata": {
      "needs_background": "light"
     },
     "output_type": "display_data"
    }
   ],
   "source": [
    "outflow_copy = outflow.drop('Country', axis = 1)\n",
    "ema_arr = model.calculate_ema(outflow_copy.iloc[100, :])\n",
    "plt.figure(figsize = (15, 5))\n",
    "plt.xticks(rotation = 90)\n",
    "plt.plot(outflow_copy.iloc[100, 4:24])\n",
    "plt.plot(ema_arr)\n",
    "plt.legend(['Data', 'EMA'])\n",
    "plt.title('Luxembourg outflow (no predictions)')"
   ]
  },
  {
   "cell_type": "code",
   "execution_count": 68,
   "id": "0bf6dd61",
   "metadata": {},
   "outputs": [],
   "source": [
    "inflow_pred = model.fit_predict(inflow_copy, 2)\n",
    "outflow_pred = model.fit_predict(outflow_copy, 3)\n",
    "inflow_copy[['2024', '2025']] = inflow_pred\n",
    "outflow_copy[['2023', '2024', '2025']] = outflow_pred"
   ]
  },
  {
   "cell_type": "code",
   "execution_count": 69,
   "id": "6ad97464",
   "metadata": {},
   "outputs": [
    {
     "data": {
      "text/plain": [
       "Text(0.5, 1.0, 'Luxembourg inflow predicted')"
      ]
     },
     "execution_count": 69,
     "metadata": {},
     "output_type": "execute_result"
    },
    {
     "data": {
      "image/png": "[encoded data removed]",
      "text/plain": [
       "<Figure size 1080x360 with 1 Axes>"
      ]
     },
     "metadata": {
      "needs_background": "light"
     },
     "output_type": "display_data"
    }
   ],
   "source": [
    "ema_arr = model.calculate_ema(inflow_copy.iloc[100, :])\n",
    "plt.figure(figsize = (15, 5))\n",
    "plt.xticks(rotation = 90)\n",
    "plt.plot(inflow_copy.iloc[100, 4:24])\n",
    "plt.plot(ema_arr)\n",
    "plt.legend(['Data', 'EMA'])\n",
    "plt.title('Luxembourg inflow predicted')"
   ]
  },
  {
   "cell_type": "code",
   "execution_count": 70,
   "id": "fc874d0b",
   "metadata": {},
   "outputs": [
    {
     "data": {
      "text/plain": [
       "Text(0.5, 1.0, 'Luxembourg outflow predicted')"
      ]
     },
     "execution_count": 70,
     "metadata": {},
     "output_type": "execute_result"
    },
    {
     "data": {
      "image/png": "[encoded data removed]",
      "text/plain": [
       "<Figure size 1080x360 with 1 Axes>"
      ]
     },
     "metadata": {
      "needs_background": "light"
     },
     "output_type": "display_data"
    }
   ],
   "source": [
    "ema_arr = model.calculate_ema(outflow_copy.iloc[100, :])\n",
    "plt.figure(figsize = (15, 5))\n",
    "plt.xticks(rotation = 90)\n",
    "plt.plot(outflow_copy.iloc[100, 4:24])\n",
    "plt.plot(ema_arr)\n",
    "plt.legend(['Data', 'EMA'])\n",
    "plt.title('Luxembourg outflow predicted')"
   ]
  },
  {
   "cell_type": "code",
   "execution_count": 71,
   "id": "5053c16e",
   "metadata": {},
   "outputs": [],
   "source": [
    "inflow_pred.to_csv('inflow_pred.csv')\n",
    "outflow_pred.to_csv('outflow_pred.csv')"
   ]
  },
  {
   "cell_type": "code",
   "execution_count": 72,
   "id": "c872f139",
   "metadata": {},
   "outputs": [
    {
     "data": {
      "text/html": [
       "<div>\n",
       "<style scoped>\n",
       "    .dataframe tbody tr th:only-of-type {\n",
       "        vertical-align: middle;\n",
       "    }\n",
       "\n",
       "    .dataframe tbody tr th {\n",
       "        vertical-align: top;\n",
       "    }\n",
       "\n",
       "    .dataframe thead th {\n",
       "        text-align: right;\n",
       "    }\n",
       "</style>\n",
       "<table border=\"1\" class=\"dataframe\">\n",
       "  <thead>\n",
       "    <tr style=\"text-align: right;\">\n",
       "      <th></th>\n",
       "      <th>0</th>\n",
       "      <th>1</th>\n",
       "    </tr>\n",
       "  </thead>\n",
       "  <tbody>\n",
       "    <tr>\n",
       "      <th>0</th>\n",
       "      <td>340.183136</td>\n",
       "      <td>350.228920</td>\n",
       "    </tr>\n",
       "    <tr>\n",
       "      <th>1</th>\n",
       "      <td>1893.529357</td>\n",
       "      <td>1874.411696</td>\n",
       "    </tr>\n",
       "    <tr>\n",
       "      <th>2</th>\n",
       "      <td>1757.546188</td>\n",
       "      <td>1754.432735</td>\n",
       "    </tr>\n",
       "    <tr>\n",
       "      <th>3</th>\n",
       "      <td>5.109375</td>\n",
       "      <td>6.386719</td>\n",
       "    </tr>\n",
       "    <tr>\n",
       "      <th>4</th>\n",
       "      <td>14.177689</td>\n",
       "      <td>13.972111</td>\n",
       "    </tr>\n",
       "    <tr>\n",
       "      <th>...</th>\n",
       "      <td>...</td>\n",
       "      <td>...</td>\n",
       "    </tr>\n",
       "    <tr>\n",
       "      <th>189</th>\n",
       "      <td>3769.938119</td>\n",
       "      <td>3769.672649</td>\n",
       "    </tr>\n",
       "    <tr>\n",
       "      <th>190</th>\n",
       "      <td>240.004361</td>\n",
       "      <td>237.505451</td>\n",
       "    </tr>\n",
       "    <tr>\n",
       "      <th>191</th>\n",
       "      <td>2988.256531</td>\n",
       "      <td>2956.320663</td>\n",
       "    </tr>\n",
       "    <tr>\n",
       "      <th>192</th>\n",
       "      <td>653086.223151</td>\n",
       "      <td>649032.778939</td>\n",
       "    </tr>\n",
       "    <tr>\n",
       "      <th>193</th>\n",
       "      <td>843150.393366</td>\n",
       "      <td>838872.241707</td>\n",
       "    </tr>\n",
       "  </tbody>\n",
       "</table>\n",
       "<p>194 rows × 2 columns</p>\n",
       "</div>"
      ],
      "text/plain": [
       "                 0              1\n",
       "0       340.183136     350.228920\n",
       "1      1893.529357    1874.411696\n",
       "2      1757.546188    1754.432735\n",
       "3         5.109375       6.386719\n",
       "4        14.177689      13.972111\n",
       "..             ...            ...\n",
       "189    3769.938119    3769.672649\n",
       "190     240.004361     237.505451\n",
       "191    2988.256531    2956.320663\n",
       "192  653086.223151  649032.778939\n",
       "193  843150.393366  838872.241707\n",
       "\n",
       "[194 rows x 2 columns]"
      ]
     },
     "execution_count": 72,
     "metadata": {},
     "output_type": "execute_result"
    }
   ],
   "source": [
    "inflow_pred"
   ]
  },
  {
   "cell_type": "code",
   "execution_count": null,
   "id": "b3bb5049",
   "metadata": {},
   "outputs": [],
   "source": []
  },
  {
   "cell_type": "code",
   "execution_count": null,
   "id": "dd30bac3",
   "metadata": {},
   "outputs": [],
   "source": []
  },
  {
   "cell_type": "code",
   "execution_count": null,
   "id": "e9b82209",
   "metadata": {},
   "outputs": [],
   "source": []
  },
  {
   "cell_type": "code",
   "execution_count": null,
   "id": "2aeceec3",
   "metadata": {},
   "outputs": [],
   "source": []
  },
  {
   "cell_type": "code",
   "execution_count": null,
   "id": "c38aec4a",
   "metadata": {},
   "outputs": [],
   "source": []
  },
  {
   "cell_type": "code",
   "execution_count": null,
   "id": "d5ca31f7",
   "metadata": {},
   "outputs": [],
   "source": []
  },
  {
   "cell_type": "code",
   "execution_count": null,
   "id": "cb4e805f",
   "metadata": {},
   "outputs": [],
   "source": []
  },
  {
   "cell_type": "code",
   "execution_count": null,
   "id": "af557b62",
   "metadata": {},
   "outputs": [],
   "source": []
  },
  {
   "cell_type": "code",
   "execution_count": null,
   "id": "2d4de1a5",
   "metadata": {},
   "outputs": [],
   "source": []
  },
  {
   "cell_type": "code",
   "execution_count": null,
   "id": "f50be0c8",
   "metadata": {},
   "outputs": [],
   "source": []
  },
  {
   "cell_type": "code",
   "execution_count": null,
   "id": "03c5ab55",
   "metadata": {},
   "outputs": [],
   "source": []
  },
  {
   "cell_type": "code",
   "execution_count": null,
   "id": "e7d60c65",
   "metadata": {},
   "outputs": [],
   "source": []
  },
  {
   "cell_type": "code",
   "execution_count": null,
   "id": "88477b15",
   "metadata": {},
   "outputs": [],
   "source": []
  }
 ],
 "metadata": {
  "kernelspec": {
   "display_name": "Python 3 (ipykernel)",
   "language": "python",
   "name": "python3"
  },
  "language_info": {
   "codemirror_mode": {
    "name": "ipython",
    "version": 3
   },
   "file_extension": ".py",
   "mimetype": "text/x-python",
   "name": "python",
   "nbconvert_exporter": "python",
   "pygments_lexer": "ipython3",
   "version": "3.9.13"
  }
 },
 "nbformat": 4,
 "nbformat_minor": 5
}
